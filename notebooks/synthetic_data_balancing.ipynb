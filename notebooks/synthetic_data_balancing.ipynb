{
 "cells": [
  {
   "cell_type": "markdown",
   "metadata": {},
   "source": [
    "# Infant Cry Classification - Handling Class Imbalance with Synthetic Data\n",
    "## Comprehensive comparison of oversampling techniques"
   ]
  },
  {
   "cell_type": "markdown",
   "metadata": {},
   "source": [
    "## 1. Install Required Packages"
   ]
  },
  {
   "cell_type": "code",
   "execution_count": null,
   "metadata": {},
   "outputs": [],
   "source": [
    "# Run this once to install imbalanced-learn\n",
    "# !pip install imbalanced-learn pandas numpy scikit-learn matplotlib seaborn xgboost lightgbm"
   ]
  },
  {
   "cell_type": "markdown",
   "metadata": {},
   "source": [
    "## 2. Import Libraries"
   ]
  },
  {
   "cell_type": "code",
   "execution_count": 1,
   "metadata": {},
   "outputs": [
    {
     "name": "stdout",
     "output_type": "stream",
     "text": [
      "✅ All libraries imported successfully!\n"
     ]
    }
   ],
   "source": [
    "import pandas as pd\n",
    "import numpy as np\n",
    "import matplotlib.pyplot as plt\n",
    "import seaborn as sns\n",
    "from collections import Counter\n",
    "\n",
    "from sklearn.model_selection import train_test_split\n",
    "from sklearn.preprocessing import StandardScaler, LabelEncoder\n",
    "from sklearn.metrics import classification_report, confusion_matrix, accuracy_score, f1_score\n",
    "\n",
    "# Imbalanced-learn for synthetic data generation\n",
    "from imblearn.over_sampling import SMOTE, ADASYN, BorderlineSMOTE, SVMSMOTE, RandomOverSampler\n",
    "from imblearn.combine import SMOTETomek, SMOTEENN\n",
    "\n",
    "# Models\n",
    "from sklearn.ensemble import RandomForestClassifier, GradientBoostingClassifier\n",
    "from xgboost import XGBClassifier\n",
    "from lightgbm import LGBMClassifier\n",
    "\n",
    "import warnings\n",
    "warnings.filterwarnings('ignore')\n",
    "\n",
    "# Set display options\n",
    "pd.set_option('display.max_columns', None)\n",
    "pd.set_option('display.width', 1000)\n",
    "sns.set_style('whitegrid')\n",
    "plt.rcParams['figure.figsize'] = (14, 6)\n",
    "\n",
    "print(\"✅ All libraries imported successfully!\")"
   ]
  },
  {
   "cell_type": "markdown",
   "metadata": {},
   "source": [
    "## 3. Load Data and Analyze Class Imbalance"
   ]
  },
  {
   "cell_type": "code",
   "execution_count": 2,
   "metadata": {},
   "outputs": [
    {
     "name": "stdout",
     "output_type": "stream",
     "text": [
      "Dataset Shape: (457, 27)\n",
      "\n",
      "First few rows:\n"
     ]
    },
    {
     "data": {
      "application/vnd.microsoft.datawrangler.viewer.v0+json": {
       "columns": [
        {
         "name": "index",
         "rawType": "int64",
         "type": "integer"
        },
        {
         "name": "Cry_Audio_File",
         "rawType": "object",
         "type": "string"
        },
        {
         "name": "Cry_Reason",
         "rawType": "int64",
         "type": "integer"
        },
        {
         "name": "Amplitude_Envelope_Mean",
         "rawType": "float64",
         "type": "float"
        },
        {
         "name": "RMS_Mean",
         "rawType": "float64",
         "type": "float"
        },
        {
         "name": "ZCR_Mean",
         "rawType": "float64",
         "type": "float"
        },
        {
         "name": "STFT_Mean",
         "rawType": "float64",
         "type": "float"
        },
        {
         "name": "SC_Mean",
         "rawType": "float64",
         "type": "float"
        },
        {
         "name": "SBAN_Mean",
         "rawType": "float64",
         "type": "float"
        },
        {
         "name": "SCON_Mean",
         "rawType": "float64",
         "type": "float"
        },
        {
         "name": "MFCCs13Mean",
         "rawType": "float64",
         "type": "float"
        },
        {
         "name": "delMFCCs13",
         "rawType": "float64",
         "type": "float"
        },
        {
         "name": "del2MFCCs13",
         "rawType": "float64",
         "type": "float"
        },
        {
         "name": "MelSpec",
         "rawType": "float64",
         "type": "float"
        },
        {
         "name": "MFCCs20",
         "rawType": "float64",
         "type": "float"
        },
        {
         "name": "MFCCs1",
         "rawType": "float64",
         "type": "float"
        },
        {
         "name": "MFCCs2",
         "rawType": "float64",
         "type": "float"
        },
        {
         "name": "MFCCs3",
         "rawType": "float64",
         "type": "float"
        },
        {
         "name": "MFCCs4",
         "rawType": "float64",
         "type": "float"
        },
        {
         "name": "MFCCs5",
         "rawType": "float64",
         "type": "float"
        },
        {
         "name": "MFCCs6",
         "rawType": "float64",
         "type": "float"
        },
        {
         "name": "MFCCs7",
         "rawType": "float64",
         "type": "float"
        },
        {
         "name": "MFCCs8",
         "rawType": "float64",
         "type": "float"
        },
        {
         "name": "MFCCs9",
         "rawType": "float64",
         "type": "float"
        },
        {
         "name": "MFCCs10",
         "rawType": "float64",
         "type": "float"
        },
        {
         "name": "MFCCs11",
         "rawType": "float64",
         "type": "float"
        },
        {
         "name": "MFCCs12",
         "rawType": "float64",
         "type": "float"
        },
        {
         "name": "MFCCs13",
         "rawType": "float64",
         "type": "float"
        }
       ],
       "ref": "3a9adbf3-8e44-4593-84be-35777c8fa97d",
       "rows": [
        [
         "0",
         "/Users/mac/Desktop/Smart_Cradle/donateacry_corpus_cleaned_and_updated_data/belly_pain/999bf14b-e417-4b44-b746-9253f81efe38-1430974001343-1.7-m-26-bp.wav",
         "0",
         "0.028202115",
         "0.011049677",
         "0.0989900115352349",
         "0.10238884",
         "1264.335599246895",
         "519.1011206437458",
         "26.821806993216565",
         "-48.27123",
         "0.08218775",
         "-0.0030100995",
         "-52.58201",
         "-31.961296",
         "-606.60547",
         "93.9349",
         "-47.782738",
         "-15.073559",
         "10.004257",
         "-30.088297",
         "-18.766724",
         "8.679635",
         "-2.3520777",
         "-7.7462444",
         "-3.0962021",
         "-4.7152734",
         "-3.9180954"
        ],
        [
         "1",
         "/Users/mac/Desktop/Smart_Cradle/donateacry_corpus_cleaned_and_updated_data/belly_pain/C421C6FE-DFEE-4080-8AEA-848E7CE4756B-1430548333-1.0-f-26-bp.wav",
         "0",
         "0.02107089",
         "0.006950727",
         "0.1153831229304635",
         "0.050369333",
         "1268.6087664409108",
         "575.4575492212196",
         "25.88131249452339",
         "-49.861237",
         "0.10137523",
         "0.01890978",
         "-55.12258",
         "-32.50051",
         "-628.12067",
         "101.60248",
         "-34.45939",
         "-10.316871",
         "-0.6070605",
         "-25.927773",
         "-4.430356",
         "-4.6190925",
         "-22.430754",
         "-4.3032727",
         "0.17262046",
         "-11.258208",
         "-3.4977849"
        ],
        [
         "2",
         "/Users/mac/Desktop/Smart_Cradle/donateacry_corpus_cleaned_and_updated_data/belly_pain/d6cda191-4962-4308-9a36-46d5648a95ed-1431159262344-1.7-m-04-bp.wav",
         "0",
         "0.029967224",
         "0.010904365",
         "0.1166626806972789",
         "0.10004214",
         "1546.5782001227976",
         "699.6266488662309",
         "26.594714567728595",
         "-49.541706",
         "0.02360533",
         "0.020593692",
         "-50.736797",
         "-31.240011",
         "-585.09564",
         "86.38556",
         "-67.562416",
         "-22.161522",
         "2.0707543",
         "-26.675592",
         "3.2948687",
         "7.7887993",
         "-21.903955",
         "-5.7445436",
         "4.150358",
         "-11.7187195",
         "-6.870083"
        ],
        [
         "3",
         "/Users/mac/Desktop/Smart_Cradle/donateacry_corpus_cleaned_and_updated_data/belly_pain/643D64AD-B711-469A-AF69-55C0D5D3E30F-1430138524-1.0-m-72-bp.wav",
         "0",
         "0.02716325",
         "0.0105199395",
         "0.0850805825745033",
         "0.14076592",
         "1089.4153278195622",
         "668.8959514985646",
         "25.608309568066048",
         "-44.275997",
         "-0.016075362",
         "0.030941423",
         "-47.15573",
         "-29.790195",
         "-538.0991",
         "96.096985",
         "-20.241573",
         "-1.7045985",
         "0.22628057",
         "-29.814095",
         "-14.937744",
         "-11.162116",
         "-21.503994",
         "-7.5013094",
         "-7.856627",
         "-15.119538",
         "-3.9704835"
        ],
        [
         "4",
         "/Users/mac/Desktop/Smart_Cradle/donateacry_corpus_cleaned_and_updated_data/belly_pain/643D64AD-B711-469A-AF69-55C0D5D3E30F-1430138647-1.0-m-72-bp.wav",
         "0",
         "0.01666276",
         "0.0065766405",
         "0.0671079521937086",
         "0.057628784",
         "1017.6109317678302",
         "700.6824103338755",
         "28.19600976076448",
         "-51.325264",
         "0.02111214",
         "0.012414595",
         "-54.007328",
         "-32.03135",
         "-611.4486",
         "68.68205",
         "-8.392762",
         "7.8121095",
         "-9.09841",
         "-34.050182",
         "-9.673841",
         "-11.780775",
         "-24.962975",
         "-7.6970654",
         "-9.014325",
         "-15.366213",
         "-2.2374368"
        ]
       ],
       "shape": {
        "columns": 27,
        "rows": 5
       }
      },
      "text/html": [
       "<div>\n",
       "<style scoped>\n",
       "    .dataframe tbody tr th:only-of-type {\n",
       "        vertical-align: middle;\n",
       "    }\n",
       "\n",
       "    .dataframe tbody tr th {\n",
       "        vertical-align: top;\n",
       "    }\n",
       "\n",
       "    .dataframe thead th {\n",
       "        text-align: right;\n",
       "    }\n",
       "</style>\n",
       "<table border=\"1\" class=\"dataframe\">\n",
       "  <thead>\n",
       "    <tr style=\"text-align: right;\">\n",
       "      <th></th>\n",
       "      <th>Cry_Audio_File</th>\n",
       "      <th>Cry_Reason</th>\n",
       "      <th>Amplitude_Envelope_Mean</th>\n",
       "      <th>RMS_Mean</th>\n",
       "      <th>ZCR_Mean</th>\n",
       "      <th>STFT_Mean</th>\n",
       "      <th>SC_Mean</th>\n",
       "      <th>SBAN_Mean</th>\n",
       "      <th>SCON_Mean</th>\n",
       "      <th>MFCCs13Mean</th>\n",
       "      <th>delMFCCs13</th>\n",
       "      <th>del2MFCCs13</th>\n",
       "      <th>MelSpec</th>\n",
       "      <th>MFCCs20</th>\n",
       "      <th>MFCCs1</th>\n",
       "      <th>MFCCs2</th>\n",
       "      <th>MFCCs3</th>\n",
       "      <th>MFCCs4</th>\n",
       "      <th>MFCCs5</th>\n",
       "      <th>MFCCs6</th>\n",
       "      <th>MFCCs7</th>\n",
       "      <th>MFCCs8</th>\n",
       "      <th>MFCCs9</th>\n",
       "      <th>MFCCs10</th>\n",
       "      <th>MFCCs11</th>\n",
       "      <th>MFCCs12</th>\n",
       "      <th>MFCCs13</th>\n",
       "    </tr>\n",
       "  </thead>\n",
       "  <tbody>\n",
       "    <tr>\n",
       "      <th>0</th>\n",
       "      <td>/Users/mac/Desktop/Smart_Cradle/donateacry_cor...</td>\n",
       "      <td>0</td>\n",
       "      <td>0.028202</td>\n",
       "      <td>0.011050</td>\n",
       "      <td>0.098990</td>\n",
       "      <td>0.102389</td>\n",
       "      <td>1264.335599</td>\n",
       "      <td>519.101121</td>\n",
       "      <td>26.821807</td>\n",
       "      <td>-48.271230</td>\n",
       "      <td>0.082188</td>\n",
       "      <td>-0.003010</td>\n",
       "      <td>-52.582010</td>\n",
       "      <td>-31.961296</td>\n",
       "      <td>-606.60547</td>\n",
       "      <td>93.934900</td>\n",
       "      <td>-47.782738</td>\n",
       "      <td>-15.073559</td>\n",
       "      <td>10.004257</td>\n",
       "      <td>-30.088297</td>\n",
       "      <td>-18.766724</td>\n",
       "      <td>8.679635</td>\n",
       "      <td>-2.352078</td>\n",
       "      <td>-7.746244</td>\n",
       "      <td>-3.096202</td>\n",
       "      <td>-4.715273</td>\n",
       "      <td>-3.918095</td>\n",
       "    </tr>\n",
       "    <tr>\n",
       "      <th>1</th>\n",
       "      <td>/Users/mac/Desktop/Smart_Cradle/donateacry_cor...</td>\n",
       "      <td>0</td>\n",
       "      <td>0.021071</td>\n",
       "      <td>0.006951</td>\n",
       "      <td>0.115383</td>\n",
       "      <td>0.050369</td>\n",
       "      <td>1268.608766</td>\n",
       "      <td>575.457549</td>\n",
       "      <td>25.881312</td>\n",
       "      <td>-49.861237</td>\n",
       "      <td>0.101375</td>\n",
       "      <td>0.018910</td>\n",
       "      <td>-55.122580</td>\n",
       "      <td>-32.500510</td>\n",
       "      <td>-628.12067</td>\n",
       "      <td>101.602480</td>\n",
       "      <td>-34.459390</td>\n",
       "      <td>-10.316871</td>\n",
       "      <td>-0.607061</td>\n",
       "      <td>-25.927773</td>\n",
       "      <td>-4.430356</td>\n",
       "      <td>-4.619092</td>\n",
       "      <td>-22.430754</td>\n",
       "      <td>-4.303273</td>\n",
       "      <td>0.172620</td>\n",
       "      <td>-11.258208</td>\n",
       "      <td>-3.497785</td>\n",
       "    </tr>\n",
       "    <tr>\n",
       "      <th>2</th>\n",
       "      <td>/Users/mac/Desktop/Smart_Cradle/donateacry_cor...</td>\n",
       "      <td>0</td>\n",
       "      <td>0.029967</td>\n",
       "      <td>0.010904</td>\n",
       "      <td>0.116663</td>\n",
       "      <td>0.100042</td>\n",
       "      <td>1546.578200</td>\n",
       "      <td>699.626649</td>\n",
       "      <td>26.594715</td>\n",
       "      <td>-49.541706</td>\n",
       "      <td>0.023605</td>\n",
       "      <td>0.020594</td>\n",
       "      <td>-50.736797</td>\n",
       "      <td>-31.240011</td>\n",
       "      <td>-585.09564</td>\n",
       "      <td>86.385560</td>\n",
       "      <td>-67.562416</td>\n",
       "      <td>-22.161522</td>\n",
       "      <td>2.070754</td>\n",
       "      <td>-26.675592</td>\n",
       "      <td>3.294869</td>\n",
       "      <td>7.788799</td>\n",
       "      <td>-21.903955</td>\n",
       "      <td>-5.744544</td>\n",
       "      <td>4.150358</td>\n",
       "      <td>-11.718720</td>\n",
       "      <td>-6.870083</td>\n",
       "    </tr>\n",
       "    <tr>\n",
       "      <th>3</th>\n",
       "      <td>/Users/mac/Desktop/Smart_Cradle/donateacry_cor...</td>\n",
       "      <td>0</td>\n",
       "      <td>0.027163</td>\n",
       "      <td>0.010520</td>\n",
       "      <td>0.085081</td>\n",
       "      <td>0.140766</td>\n",
       "      <td>1089.415328</td>\n",
       "      <td>668.895951</td>\n",
       "      <td>25.608310</td>\n",
       "      <td>-44.275997</td>\n",
       "      <td>-0.016075</td>\n",
       "      <td>0.030941</td>\n",
       "      <td>-47.155730</td>\n",
       "      <td>-29.790195</td>\n",
       "      <td>-538.09910</td>\n",
       "      <td>96.096985</td>\n",
       "      <td>-20.241573</td>\n",
       "      <td>-1.704598</td>\n",
       "      <td>0.226281</td>\n",
       "      <td>-29.814095</td>\n",
       "      <td>-14.937744</td>\n",
       "      <td>-11.162116</td>\n",
       "      <td>-21.503994</td>\n",
       "      <td>-7.501309</td>\n",
       "      <td>-7.856627</td>\n",
       "      <td>-15.119538</td>\n",
       "      <td>-3.970483</td>\n",
       "    </tr>\n",
       "    <tr>\n",
       "      <th>4</th>\n",
       "      <td>/Users/mac/Desktop/Smart_Cradle/donateacry_cor...</td>\n",
       "      <td>0</td>\n",
       "      <td>0.016663</td>\n",
       "      <td>0.006577</td>\n",
       "      <td>0.067108</td>\n",
       "      <td>0.057629</td>\n",
       "      <td>1017.610932</td>\n",
       "      <td>700.682410</td>\n",
       "      <td>28.196010</td>\n",
       "      <td>-51.325264</td>\n",
       "      <td>0.021112</td>\n",
       "      <td>0.012415</td>\n",
       "      <td>-54.007328</td>\n",
       "      <td>-32.031350</td>\n",
       "      <td>-611.44860</td>\n",
       "      <td>68.682050</td>\n",
       "      <td>-8.392762</td>\n",
       "      <td>7.812110</td>\n",
       "      <td>-9.098410</td>\n",
       "      <td>-34.050182</td>\n",
       "      <td>-9.673841</td>\n",
       "      <td>-11.780775</td>\n",
       "      <td>-24.962975</td>\n",
       "      <td>-7.697065</td>\n",
       "      <td>-9.014325</td>\n",
       "      <td>-15.366213</td>\n",
       "      <td>-2.237437</td>\n",
       "    </tr>\n",
       "  </tbody>\n",
       "</table>\n",
       "</div>"
      ],
      "text/plain": [
       "                                      Cry_Audio_File  Cry_Reason  Amplitude_Envelope_Mean  RMS_Mean  ZCR_Mean  STFT_Mean      SC_Mean   SBAN_Mean  SCON_Mean  MFCCs13Mean  delMFCCs13  del2MFCCs13    MelSpec    MFCCs20     MFCCs1      MFCCs2     MFCCs3     MFCCs4     MFCCs5     MFCCs6     MFCCs7     MFCCs8     MFCCs9   MFCCs10   MFCCs11    MFCCs12   MFCCs13\n",
       "0  /Users/mac/Desktop/Smart_Cradle/donateacry_cor...           0                 0.028202  0.011050  0.098990   0.102389  1264.335599  519.101121  26.821807   -48.271230    0.082188    -0.003010 -52.582010 -31.961296 -606.60547   93.934900 -47.782738 -15.073559  10.004257 -30.088297 -18.766724   8.679635  -2.352078 -7.746244 -3.096202  -4.715273 -3.918095\n",
       "1  /Users/mac/Desktop/Smart_Cradle/donateacry_cor...           0                 0.021071  0.006951  0.115383   0.050369  1268.608766  575.457549  25.881312   -49.861237    0.101375     0.018910 -55.122580 -32.500510 -628.12067  101.602480 -34.459390 -10.316871  -0.607061 -25.927773  -4.430356  -4.619092 -22.430754 -4.303273  0.172620 -11.258208 -3.497785\n",
       "2  /Users/mac/Desktop/Smart_Cradle/donateacry_cor...           0                 0.029967  0.010904  0.116663   0.100042  1546.578200  699.626649  26.594715   -49.541706    0.023605     0.020594 -50.736797 -31.240011 -585.09564   86.385560 -67.562416 -22.161522   2.070754 -26.675592   3.294869   7.788799 -21.903955 -5.744544  4.150358 -11.718720 -6.870083\n",
       "3  /Users/mac/Desktop/Smart_Cradle/donateacry_cor...           0                 0.027163  0.010520  0.085081   0.140766  1089.415328  668.895951  25.608310   -44.275997   -0.016075     0.030941 -47.155730 -29.790195 -538.09910   96.096985 -20.241573  -1.704598   0.226281 -29.814095 -14.937744 -11.162116 -21.503994 -7.501309 -7.856627 -15.119538 -3.970483\n",
       "4  /Users/mac/Desktop/Smart_Cradle/donateacry_cor...           0                 0.016663  0.006577  0.067108   0.057629  1017.610932  700.682410  28.196010   -51.325264    0.021112     0.012415 -54.007328 -32.031350 -611.44860   68.682050  -8.392762   7.812110  -9.098410 -34.050182  -9.673841 -11.780775 -24.962975 -7.697065 -9.014325 -15.366213 -2.237437"
      ]
     },
     "metadata": {},
     "output_type": "display_data"
    }
   ],
   "source": [
    "# Load dataset - UPDATE THIS PATH\n",
    "filepath = r'C:\\Users\\ADMIN\\Downloads\\Cry classification\\donateacry-corpus_features_final.csv'\n",
    "df = pd.read_csv(filepath)\n",
    "\n",
    "print(f\"Dataset Shape: {df.shape}\")\n",
    "print(\"\\nFirst few rows:\")\n",
    "display(df.head())"
   ]
  },
  {
   "cell_type": "code",
   "execution_count": 3,
   "metadata": {},
   "outputs": [
    {
     "name": "stdout",
     "output_type": "stream",
     "text": [
      "================================================================================\n",
      "CLASS DISTRIBUTION ANALYSIS\n",
      "================================================================================\n",
      "\n",
      "Absolute Counts:\n",
      "Cry_Reason\n",
      "3    382\n",
      "2     27\n",
      "4     24\n",
      "0     16\n",
      "1      8\n",
      "Name: count, dtype: int64\n",
      "\n",
      "Percentage Distribution:\n",
      "  3: 83.59%\n",
      "  2: 5.91%\n",
      "  4: 5.25%\n",
      "  0: 3.5%\n",
      "  1: 1.75%\n",
      "\n",
      "⚠️ Imbalance Ratio: 47.75:1\n",
      "   (Majority class has 47.75x more samples than minority class)\n",
      "\n",
      "🔴 Significant class imbalance detected! Synthetic data generation recommended.\n"
     ]
    }
   ],
   "source": [
    "# Analyze class distribution\n",
    "print(\"=\"*80)\n",
    "print(\"CLASS DISTRIBUTION ANALYSIS\")\n",
    "print(\"=\"*80)\n",
    "\n",
    "class_counts = df['Cry_Reason'].value_counts()\n",
    "print(\"\\nAbsolute Counts:\")\n",
    "print(class_counts)\n",
    "\n",
    "print(\"\\nPercentage Distribution:\")\n",
    "class_percentages = (class_counts / len(df) * 100).round(2)\n",
    "for cls, pct in class_percentages.items():\n",
    "    print(f\"  {cls}: {pct}%\")\n",
    "\n",
    "# Calculate imbalance ratio\n",
    "max_count = class_counts.max()\n",
    "min_count = class_counts.min()\n",
    "imbalance_ratio = max_count / min_count\n",
    "\n",
    "print(f\"\\n⚠️ Imbalance Ratio: {imbalance_ratio:.2f}:1\")\n",
    "print(f\"   (Majority class has {imbalance_ratio:.2f}x more samples than minority class)\")\n",
    "\n",
    "if imbalance_ratio > 1.5:\n",
    "    print(\"\\n🔴 Significant class imbalance detected! Synthetic data generation recommended.\")\n",
    "else:\n",
    "    print(\"\\n🟢 Classes are relatively balanced.\")"
   ]
  },
  {
   "cell_type": "code",
   "execution_count": 4,
   "metadata": {},
   "outputs": [
    {
     "data": {
      "image/png": "[encoded data removed]",
      "text/plain": [
       "<Figure size 1400x500 with 2 Axes>"
      ]
     },
     "metadata": {},
     "output_type": "display_data"
    }
   ],
   "source": [
    "# Visualize class distribution\n",
    "fig, axes = plt.subplots(1, 2, figsize=(14, 5))\n",
    "\n",
    "# Count plot\n",
    "class_counts.plot(kind='bar', ax=axes[0], color='coral', edgecolor='black')\n",
    "axes[0].set_title('Original Class Distribution (Count)', fontsize=12, fontweight='bold')\n",
    "axes[0].set_xlabel('Cry Reason', fontweight='bold')\n",
    "axes[0].set_ylabel('Count', fontweight='bold')\n",
    "axes[0].tick_params(axis='x', rotation=45)\n",
    "\n",
    "# Percentage plot\n",
    "class_percentages.plot(kind='bar', ax=axes[1], color='skyblue', edgecolor='black')\n",
    "axes[1].set_title('Original Class Distribution (%)', fontsize=12, fontweight='bold')\n",
    "axes[1].set_xlabel('Cry Reason', fontweight='bold')\n",
    "axes[1].set_ylabel('Percentage', fontweight='bold')\n",
    "axes[1].tick_params(axis='x', rotation=45)\n",
    "\n",
    "plt.tight_layout()\n",
    "plt.show()"
   ]
  },
  {
   "cell_type": "markdown",
   "metadata": {},
   "source": [
    "## 4. Prepare Data"
   ]
  },
  {
   "cell_type": "code",
   "execution_count": 5,
   "metadata": {},
   "outputs": [
    {
     "name": "stdout",
     "output_type": "stream",
     "text": [
      "Features: 25\n",
      "Samples: 457\n"
     ]
    }
   ],
   "source": [
    "# Drop audio file column\n",
    "if 'Cry_Audio_File' in df.columns:\n",
    "    df_clean = df.drop('Cry_Audio_File', axis=1)\n",
    "else:\n",
    "    df_clean = df.copy()\n",
    "\n",
    "# Separate features and target\n",
    "X = df_clean.drop('Cry_Reason', axis=1)\n",
    "y = df_clean['Cry_Reason']\n",
    "\n",
    "print(f\"Features: {X.shape[1]}\")\n",
    "print(f\"Samples: {X.shape[0]}\")"
   ]
  },
  {
   "cell_type": "code",
   "execution_count": 6,
   "metadata": {},
   "outputs": [
    {
     "name": "stdout",
     "output_type": "stream",
     "text": [
      "Label Encoding:\n",
      "  0 → 0\n",
      "  1 → 1\n",
      "  2 → 2\n",
      "  3 → 3\n",
      "  4 → 4\n"
     ]
    }
   ],
   "source": [
    "# Encode target variable\n",
    "le = LabelEncoder()\n",
    "y_encoded = le.fit_transform(y)\n",
    "\n",
    "print(\"Label Encoding:\")\n",
    "for label, encoded in zip(le.classes_, le.transform(le.classes_)):\n",
    "    print(f\"  {label} → {encoded}\")"
   ]
  },
  {
   "cell_type": "code",
   "execution_count": 7,
   "metadata": {},
   "outputs": [
    {
     "name": "stdout",
     "output_type": "stream",
     "text": [
      "Training set: 365 samples\n",
      "Testing set: 92 samples\n",
      "\n",
      "Training set distribution:\n",
      "  Class 0 (0): 13 samples\n",
      "  Class 1 (1): 6 samples\n",
      "  Class 2 (2): 22 samples\n",
      "  Class 3 (3): 305 samples\n",
      "  Class 4 (4): 19 samples\n"
     ]
    }
   ],
   "source": [
    "# Split data\n",
    "X_train, X_test, y_train, y_test = train_test_split(\n",
    "    X, y_encoded, test_size=0.2, random_state=42, stratify=y_encoded\n",
    ")\n",
    "\n",
    "print(f\"Training set: {X_train.shape[0]} samples\")\n",
    "print(f\"Testing set: {X_test.shape[0]} samples\")\n",
    "\n",
    "print(\"\\nTraining set distribution:\")\n",
    "train_dist = Counter(y_train)\n",
    "for label, count in sorted(train_dist.items()):\n",
    "    print(f\"  Class {label} ({le.classes_[label]}): {count} samples\")"
   ]
  },
  {
   "cell_type": "code",
   "execution_count": 8,
   "metadata": {},
   "outputs": [
    {
     "name": "stdout",
     "output_type": "stream",
     "text": [
      "✅ Features scaled using StandardScaler\n"
     ]
    }
   ],
   "source": [
    "# Scale features\n",
    "scaler = StandardScaler()\n",
    "X_train_scaled = scaler.fit_transform(X_train)\n",
    "X_test_scaled = scaler.transform(X_test)\n",
    "\n",
    "print(\"✅ Features scaled using StandardScaler\")"
   ]
  },
  {
   "cell_type": "markdown",
   "metadata": {},
   "source": [
    "## 5. Apply Different Synthetic Data Generation Techniques"
   ]
  },
  {
   "cell_type": "code",
   "execution_count": 9,
   "metadata": {},
   "outputs": [
    {
     "name": "stdout",
     "output_type": "stream",
     "text": [
      "================================================================================\n",
      "APPLYING SYNTHETIC DATA GENERATION TECHNIQUES\n",
      "================================================================================\n"
     ]
    }
   ],
   "source": [
    "# Dictionary to store resampled datasets\n",
    "sampling_techniques = {}\n",
    "\n",
    "print(\"=\"*80)\n",
    "print(\"APPLYING SYNTHETIC DATA GENERATION TECHNIQUES\")\n",
    "print(\"=\"*80)"
   ]
  },
  {
   "cell_type": "code",
   "execution_count": 10,
   "metadata": {},
   "outputs": [
    {
     "name": "stdout",
     "output_type": "stream",
     "text": [
      "\n",
      "1️⃣ SMOTE - Synthetic Minority Over-sampling TEchnique\n",
      "   Creates synthetic samples by interpolating between minority class samples\n",
      "   ✅ New shape: (1525, 25)\n",
      "   Distribution: Counter({np.int64(2): 305, np.int64(3): 305, np.int64(4): 305, np.int64(0): 305, np.int64(1): 305})\n"
     ]
    }
   ],
   "source": [
    "# 1. SMOTE (Synthetic Minority Over-sampling TEchnique)\n",
    "print(\"\\n1️⃣ SMOTE - Synthetic Minority Over-sampling TEchnique\")\n",
    "print(\"   Creates synthetic samples by interpolating between minority class samples\")\n",
    "\n",
    "smote = SMOTE(random_state=42)\n",
    "X_smote, y_smote = smote.fit_resample(X_train_scaled, y_train)\n",
    "sampling_techniques['SMOTE'] = (X_smote, y_smote)\n",
    "\n",
    "print(f\"   ✅ New shape: {X_smote.shape}\")\n",
    "print(f\"   Distribution: {Counter(y_smote)}\")"
   ]
  },
  {
   "cell_type": "code",
   "execution_count": 11,
   "metadata": {},
   "outputs": [
    {
     "name": "stdout",
     "output_type": "stream",
     "text": [
      "\n",
      "2️⃣ ADASYN - Adaptive Synthetic Sampling\n",
      "   Focuses on generating samples in harder-to-learn regions\n",
      "   ✅ New shape: (1521, 25)\n",
      "   Distribution: Counter({np.int64(1): 307, np.int64(3): 305, np.int64(4): 305, np.int64(2): 304, np.int64(0): 300})\n"
     ]
    }
   ],
   "source": [
    "# 2. ADASYN (Adaptive Synthetic Sampling)\n",
    "print(\"\\n2️⃣ ADASYN - Adaptive Synthetic Sampling\")\n",
    "print(\"   Focuses on generating samples in harder-to-learn regions\")\n",
    "\n",
    "try:\n",
    "    adasyn = ADASYN(random_state=42)\n",
    "    X_adasyn, y_adasyn = adasyn.fit_resample(X_train_scaled, y_train)\n",
    "    sampling_techniques['ADASYN'] = (X_adasyn, y_adasyn)\n",
    "    print(f\"   ✅ New shape: {X_adasyn.shape}\")\n",
    "    print(f\"   Distribution: {Counter(y_adasyn)}\")\n",
    "except Exception as e:\n",
    "    print(f\"   ⚠️ ADASYN failed: {e}\")"
   ]
  },
  {
   "cell_type": "code",
   "execution_count": 12,
   "metadata": {},
   "outputs": [
    {
     "name": "stdout",
     "output_type": "stream",
     "text": [
      "\n",
      "3️⃣ Borderline SMOTE\n",
      "   Focuses on samples near the decision boundary\n",
      "   ✅ New shape: (1525, 25)\n",
      "   Distribution: Counter({np.int64(2): 305, np.int64(3): 305, np.int64(4): 305, np.int64(0): 305, np.int64(1): 305})\n"
     ]
    }
   ],
   "source": [
    "# 3. Borderline SMOTE\n",
    "print(\"\\n3️⃣ Borderline SMOTE\")\n",
    "print(\"   Focuses on samples near the decision boundary\")\n",
    "\n",
    "borderline_smote = BorderlineSMOTE(random_state=42)\n",
    "X_borderline, y_borderline = borderline_smote.fit_resample(X_train_scaled, y_train)\n",
    "sampling_techniques['Borderline-SMOTE'] = (X_borderline, y_borderline)\n",
    "\n",
    "print(f\"   ✅ New shape: {X_borderline.shape}\")\n",
    "print(f\"   Distribution: {Counter(y_borderline)}\")"
   ]
  },
  {
   "cell_type": "code",
   "execution_count": 13,
   "metadata": {},
   "outputs": [
    {
     "name": "stdout",
     "output_type": "stream",
     "text": [
      "\n",
      "4️⃣ SVM SMOTE\n",
      "   Uses SVM to find support vectors for synthetic sample generation\n",
      "   ✅ New shape: (953, 25)\n",
      "   Distribution: Counter({np.int64(3): 305, np.int64(2): 180, np.int64(0): 174, np.int64(1): 155, np.int64(4): 139})\n"
     ]
    }
   ],
   "source": [
    "# 4. SVM SMOTE\n",
    "print(\"\\n4️⃣ SVM SMOTE\")\n",
    "print(\"   Uses SVM to find support vectors for synthetic sample generation\")\n",
    "\n",
    "try:\n",
    "    svm_smote = SVMSMOTE(random_state=42)\n",
    "    X_svm, y_svm = svm_smote.fit_resample(X_train_scaled, y_train)\n",
    "    sampling_techniques['SVM-SMOTE'] = (X_svm, y_svm)\n",
    "    print(f\"   ✅ New shape: {X_svm.shape}\")\n",
    "    print(f\"   Distribution: {Counter(y_svm)}\")\n",
    "except Exception as e:\n",
    "    print(f\"   ⚠️ SVM-SMOTE failed: {e}\")"
   ]
  },
  {
   "cell_type": "code",
   "execution_count": 14,
   "metadata": {},
   "outputs": [
    {
     "name": "stdout",
     "output_type": "stream",
     "text": [
      "\n",
      "5️⃣ Random Over Sampling\n",
      "   Randomly duplicates minority class samples\n",
      "   ✅ New shape: (1525, 25)\n",
      "   Distribution: Counter({np.int64(2): 305, np.int64(3): 305, np.int64(4): 305, np.int64(0): 305, np.int64(1): 305})\n"
     ]
    }
   ],
   "source": [
    "# 5. Random Over Sampling\n",
    "print(\"\\n5️⃣ Random Over Sampling\")\n",
    "print(\"   Randomly duplicates minority class samples\")\n",
    "\n",
    "ros = RandomOverSampler(random_state=42)\n",
    "X_ros, y_ros = ros.fit_resample(X_train_scaled, y_train)\n",
    "sampling_techniques['Random-OverSampling'] = (X_ros, y_ros)\n",
    "\n",
    "print(f\"   ✅ New shape: {X_ros.shape}\")\n",
    "print(f\"   Distribution: {Counter(y_ros)}\")"
   ]
  },
  {
   "cell_type": "code",
   "execution_count": 15,
   "metadata": {},
   "outputs": [
    {
     "name": "stdout",
     "output_type": "stream",
     "text": [
      "\n",
      "6️⃣ SMOTE + Tomek Links (Hybrid)\n",
      "   Applies SMOTE then removes Tomek links (overlapping samples)\n",
      "   ✅ New shape: (1525, 25)\n",
      "   Distribution: Counter({np.int64(2): 305, np.int64(3): 305, np.int64(4): 305, np.int64(0): 305, np.int64(1): 305})\n"
     ]
    }
   ],
   "source": [
    "# 6. SMOTE + Tomek Links\n",
    "print(\"\\n6️⃣ SMOTE + Tomek Links (Hybrid)\")\n",
    "print(\"   Applies SMOTE then removes Tomek links (overlapping samples)\")\n",
    "\n",
    "smote_tomek = SMOTETomek(random_state=42)\n",
    "X_smote_tomek, y_smote_tomek = smote_tomek.fit_resample(X_train_scaled, y_train)\n",
    "sampling_techniques['SMOTE-Tomek'] = (X_smote_tomek, y_smote_tomek)\n",
    "\n",
    "print(f\"   ✅ New shape: {X_smote_tomek.shape}\")\n",
    "print(f\"   Distribution: {Counter(y_smote_tomek)}\")"
   ]
  },
  {
   "cell_type": "code",
   "execution_count": 16,
   "metadata": {},
   "outputs": [
    {
     "name": "stdout",
     "output_type": "stream",
     "text": [
      "\n",
      "7️⃣ SMOTE + ENN (Hybrid)\n",
      "   Applies SMOTE then removes samples using Edited Nearest Neighbors\n",
      "   ✅ New shape: (1280, 25)\n",
      "   Distribution: Counter({np.int64(1): 305, np.int64(4): 303, np.int64(2): 302, np.int64(0): 299, np.int64(3): 71})\n"
     ]
    }
   ],
   "source": [
    "# 7. SMOTE + ENN\n",
    "print(\"\\n7️⃣ SMOTE + ENN (Hybrid)\")\n",
    "print(\"   Applies SMOTE then removes samples using Edited Nearest Neighbors\")\n",
    "\n",
    "smote_enn = SMOTEENN(random_state=42)\n",
    "X_smote_enn, y_smote_enn = smote_enn.fit_resample(X_train_scaled, y_train)\n",
    "sampling_techniques['SMOTE-ENN'] = (X_smote_enn, y_smote_enn)\n",
    "\n",
    "print(f\"   ✅ New shape: {X_smote_enn.shape}\")\n",
    "print(f\"   Distribution: {Counter(y_smote_enn)}\")"
   ]
  },
  {
   "cell_type": "code",
   "execution_count": 17,
   "metadata": {},
   "outputs": [
    {
     "name": "stdout",
     "output_type": "stream",
     "text": [
      "\n",
      "================================================================================\n",
      "✅ Total techniques applied: 8\n",
      "================================================================================\n"
     ]
    }
   ],
   "source": [
    "# Add original for comparison\n",
    "sampling_techniques['Original (No Sampling)'] = (X_train_scaled, y_train)\n",
    "\n",
    "print(\"\\n\" + \"=\"*80)\n",
    "print(f\"✅ Total techniques applied: {len(sampling_techniques)}\")\n",
    "print(\"=\"*80)"
   ]
  },
  {
   "cell_type": "markdown",
   "metadata": {},
   "source": [
    "## 6. Visualize Sampling Techniques"
   ]
  },
  {
   "cell_type": "code",
   "execution_count": null,
   "metadata": {},
   "outputs": [],
   "source": [
    "# Visualize all sampling techniques\n",
    "fig, axes = plt.subplots(3, 3, figsize=(18, 15))\n",
    "axes = axes.flatten()\n",
    "\n",
    "for idx, (name, data) in enumerate(sampling_techniques.items()):\n",
    "    if data is None:\n",
    "        axes[idx].text(0.5, 0.5, f'{name}\\nFailed', ha='center', va='center')\n",
    "        axes[idx].set_xticks([])\n",
    "        axes[idx].set_yticks([])\n",
    "        continue\n",
    "    \n",
    "    X_resampled, y_resampled = data\n",
    "    class_counts = Counter(y_resampled)\n",
    "    classes = sorted(class_counts.keys())\n",
    "    counts = [class_counts[c] for c in classes]\n",
    "    \n",
    "    axes[idx].bar(classes, counts, color='lightgreen', edgecolor='black')\n",
    "    axes[idx].set_title(f'{name}\\n(Total: {len(y_resampled)} samples)', fontsize=10, fontweight='bold')\n",
    "    axes[idx].set_xlabel('Class')\n",
    "    axes[idx].set_ylabel('Count')\n",
    "    axes[idx].set_xticks(classes)\n",
    "    axes[idx].set_xticklabels([le.classes_[c] for c in classes], rotation=45, ha='right', fontsize=8)\n",
    "\n",
    "# Hide extra subplots\n",
    "for idx in range(len(sampling_techniques), len(axes)):\n",
    "    axes[idx].axis('off')\n",
    "\n",
    "plt.tight_layout()\n",
    "plt.show()"
   ]
  },
  {
   "cell_type": "markdown",
   "metadata": {},
   "source": [
    "## 7. Train Models with Each Sampling Technique"
   ]
  },
  {
   "cell_type": "code",
   "execution_count": 18,
   "metadata": {},
   "outputs": [
    {
     "name": "stdout",
     "output_type": "stream",
     "text": [
      "Testing 4 models with 8 sampling techniques\n",
      "Total combinations: 32\n"
     ]
    }
   ],
   "source": [
    "# Define models to test\n",
    "models = {\n",
    "    'Random Forest': RandomForestClassifier(n_estimators=100, random_state=42),\n",
    "    'XGBoost': XGBClassifier(n_estimators=100, random_state=42, eval_metric='mlogloss'),\n",
    "    'LightGBM': LGBMClassifier(n_estimators=100, random_state=42, verbose=-1),\n",
    "    'Gradient Boosting': GradientBoostingClassifier(n_estimators=100, random_state=42)\n",
    "}\n",
    "\n",
    "print(f\"Testing {len(models)} models with {len(sampling_techniques)} sampling techniques\")\n",
    "print(f\"Total combinations: {len(models) * len(sampling_techniques)}\")"
   ]
  },
  {
   "cell_type": "code",
   "execution_count": 19,
   "metadata": {},
   "outputs": [
    {
     "name": "stdout",
     "output_type": "stream",
     "text": [
      "\n",
      "======================================================================\n",
      "Testing: SMOTE\n",
      "Training samples: 1525\n",
      "======================================================================\n",
      "  Random Forest        → Accuracy: 0.7826, F1-Score: 0.7826\n",
      "  XGBoost              → Accuracy: 0.8478, F1-Score: 0.8307\n",
      "  LightGBM             → Accuracy: 0.7935, F1-Score: 0.7899\n",
      "  Gradient Boosting    → Accuracy: 0.7174, F1-Score: 0.7258\n",
      "\n",
      "======================================================================\n",
      "Testing: ADASYN\n",
      "Training samples: 1521\n",
      "======================================================================\n",
      "  Random Forest        → Accuracy: 0.7826, F1-Score: 0.7789\n",
      "  XGBoost              → Accuracy: 0.7826, F1-Score: 0.7802\n",
      "  LightGBM             → Accuracy: 0.7826, F1-Score: 0.7845\n",
      "  Gradient Boosting    → Accuracy: 0.7826, F1-Score: 0.7941\n",
      "\n",
      "======================================================================\n",
      "Testing: Borderline-SMOTE\n",
      "Training samples: 1525\n",
      "======================================================================\n",
      "  Random Forest        → Accuracy: 0.7935, F1-Score: 0.7778\n",
      "  XGBoost              → Accuracy: 0.7935, F1-Score: 0.7713\n",
      "  LightGBM             → Accuracy: 0.7935, F1-Score: 0.7663\n",
      "  Gradient Boosting    → Accuracy: 0.7500, F1-Score: 0.7464\n",
      "\n",
      "======================================================================\n",
      "Testing: SVM-SMOTE\n",
      "Training samples: 953\n",
      "======================================================================\n",
      "  Random Forest        → Accuracy: 0.7935, F1-Score: 0.7633\n",
      "  XGBoost              → Accuracy: 0.7935, F1-Score: 0.7595\n",
      "  LightGBM             → Accuracy: 0.7826, F1-Score: 0.7491\n",
      "  Gradient Boosting    → Accuracy: 0.7717, F1-Score: 0.7478\n",
      "\n",
      "======================================================================\n",
      "Testing: Random-OverSampling\n",
      "Training samples: 1525\n",
      "======================================================================\n",
      "  Random Forest        → Accuracy: 0.8261, F1-Score: 0.7572\n",
      "  XGBoost              → Accuracy: 0.8152, F1-Score: 0.7716\n",
      "  LightGBM             → Accuracy: 0.8261, F1-Score: 0.7726\n",
      "  Gradient Boosting    → Accuracy: 0.8043, F1-Score: 0.7507\n",
      "\n",
      "======================================================================\n",
      "Testing: SMOTE-Tomek\n",
      "Training samples: 1525\n",
      "======================================================================\n",
      "  Random Forest        → Accuracy: 0.7826, F1-Score: 0.7826\n",
      "  XGBoost              → Accuracy: 0.8478, F1-Score: 0.8307\n",
      "  LightGBM             → Accuracy: 0.7935, F1-Score: 0.7899\n",
      "  Gradient Boosting    → Accuracy: 0.7174, F1-Score: 0.7258\n",
      "\n",
      "======================================================================\n",
      "Testing: SMOTE-ENN\n",
      "Training samples: 1280\n",
      "======================================================================\n",
      "  Random Forest        → Accuracy: 0.2826, F1-Score: 0.3665\n",
      "  XGBoost              → Accuracy: 0.4239, F1-Score: 0.5352\n",
      "  LightGBM             → Accuracy: 0.4022, F1-Score: 0.5116\n",
      "  Gradient Boosting    → Accuracy: 0.3913, F1-Score: 0.4961\n",
      "\n",
      "======================================================================\n",
      "Testing: Original (No Sampling)\n",
      "Training samples: 365\n",
      "======================================================================\n",
      "  Random Forest        → Accuracy: 0.8152, F1-Score: 0.7518\n",
      "  XGBoost              → Accuracy: 0.8261, F1-Score: 0.7572\n",
      "  LightGBM             → Accuracy: 0.8370, F1-Score: 0.7627\n",
      "  Gradient Boosting    → Accuracy: 0.7935, F1-Score: 0.7406\n",
      "\n",
      "✅ All models trained!\n"
     ]
    }
   ],
   "source": [
    "# Train and evaluate all combinations\n",
    "results = {}\n",
    "\n",
    "for sampling_name, data in sampling_techniques.items():\n",
    "    if data is None:\n",
    "        continue\n",
    "    \n",
    "    X_train_resampled, y_train_resampled = data\n",
    "    \n",
    "    print(f\"\\n{'='*70}\")\n",
    "    print(f\"Testing: {sampling_name}\")\n",
    "    print(f\"Training samples: {X_train_resampled.shape[0]}\")\n",
    "    print(f\"{'='*70}\")\n",
    "    \n",
    "    sampling_results = {}\n",
    "    \n",
    "    for model_name, model in models.items():\n",
    "        # Train\n",
    "        model.fit(X_train_resampled, y_train_resampled)\n",
    "        \n",
    "        # Predict\n",
    "        y_pred = model.predict(X_test_scaled)\n",
    "        \n",
    "        # Calculate metrics\n",
    "        accuracy = accuracy_score(y_test, y_pred)\n",
    "        f1 = f1_score(y_test, y_pred, average='weighted')\n",
    "        \n",
    "        sampling_results[model_name] = {\n",
    "            'accuracy': accuracy,\n",
    "            'f1_score': f1,\n",
    "            'predictions': y_pred\n",
    "        }\n",
    "        \n",
    "        print(f\"  {model_name:20s} → Accuracy: {accuracy:.4f}, F1-Score: {f1:.4f}\")\n",
    "    \n",
    "    results[sampling_name] = sampling_results\n",
    "\n",
    "print(\"\\n✅ All models trained!\")"
   ]
  },
  {
   "cell_type": "markdown",
   "metadata": {},
   "source": [
    "## 8. Comprehensive Comparison"
   ]
  },
  {
   "cell_type": "code",
   "execution_count": 20,
   "metadata": {},
   "outputs": [
    {
     "name": "stdout",
     "output_type": "stream",
     "text": [
      "\n",
      "====================================================================================================\n",
      "COMPREHENSIVE RESULTS (Sorted by F1-Score)\n",
      "====================================================================================================\n"
     ]
    },
    {
     "data": {
      "text/html": [
       "<style type=\"text/css\">\n",
       "#T_d426b_row0_col2, #T_d426b_row0_col3, #T_d426b_row1_col2, #T_d426b_row1_col3 {\n",
       "  background-color: #00441b;\n",
       "  color: #f1f1f1;\n",
       "}\n",
       "#T_d426b_row2_col2, #T_d426b_row5_col2, #T_d426b_row6_col2, #T_d426b_row7_col2, #T_d426b_row8_col2, #T_d426b_row9_col2, #T_d426b_row10_col3, #T_d426b_row22_col2 {\n",
       "  background-color: #00692a;\n",
       "  color: #f1f1f1;\n",
       "}\n",
       "#T_d426b_row2_col3 {\n",
       "  background-color: #005e26;\n",
       "  color: #f1f1f1;\n",
       "}\n",
       "#T_d426b_row3_col2, #T_d426b_row4_col2, #T_d426b_row10_col2, #T_d426b_row13_col2, #T_d426b_row14_col2, #T_d426b_row15_col2, #T_d426b_row17_col2, #T_d426b_row25_col2 {\n",
       "  background-color: #006328;\n",
       "  color: #f1f1f1;\n",
       "}\n",
       "#T_d426b_row3_col3, #T_d426b_row4_col3 {\n",
       "  background-color: #006027;\n",
       "  color: #f1f1f1;\n",
       "}\n",
       "#T_d426b_row5_col3 {\n",
       "  background-color: #006428;\n",
       "  color: #f1f1f1;\n",
       "}\n",
       "#T_d426b_row6_col3, #T_d426b_row7_col3 {\n",
       "  background-color: #006529;\n",
       "  color: #f1f1f1;\n",
       "}\n",
       "#T_d426b_row8_col3 {\n",
       "  background-color: #006729;\n",
       "  color: #f1f1f1;\n",
       "}\n",
       "#T_d426b_row9_col3 {\n",
       "  background-color: #00682a;\n",
       "  color: #f1f1f1;\n",
       "}\n",
       "#T_d426b_row11_col2, #T_d426b_row18_col2, #T_d426b_row19_col2 {\n",
       "  background-color: #005020;\n",
       "  color: #f1f1f1;\n",
       "}\n",
       "#T_d426b_row11_col3, #T_d426b_row12_col3, #T_d426b_row13_col3 {\n",
       "  background-color: #006d2c;\n",
       "  color: #f1f1f1;\n",
       "}\n",
       "#T_d426b_row12_col2, #T_d426b_row20_col2 {\n",
       "  background-color: #005622;\n",
       "  color: #f1f1f1;\n",
       "}\n",
       "#T_d426b_row14_col3 {\n",
       "  background-color: #03702e;\n",
       "  color: #f1f1f1;\n",
       "}\n",
       "#T_d426b_row15_col3, #T_d426b_row16_col3 {\n",
       "  background-color: #067230;\n",
       "  color: #f1f1f1;\n",
       "}\n",
       "#T_d426b_row16_col2 {\n",
       "  background-color: #00491d;\n",
       "  color: #f1f1f1;\n",
       "}\n",
       "#T_d426b_row17_col3 {\n",
       "  background-color: #087432;\n",
       "  color: #f1f1f1;\n",
       "}\n",
       "#T_d426b_row18_col3, #T_d426b_row19_col3 {\n",
       "  background-color: #097532;\n",
       "  color: #f1f1f1;\n",
       "}\n",
       "#T_d426b_row20_col3 {\n",
       "  background-color: #0c7735;\n",
       "  color: #f1f1f1;\n",
       "}\n",
       "#T_d426b_row21_col2 {\n",
       "  background-color: #005c25;\n",
       "  color: #f1f1f1;\n",
       "}\n",
       "#T_d426b_row21_col3, #T_d426b_row24_col2 {\n",
       "  background-color: #0d7836;\n",
       "  color: #f1f1f1;\n",
       "}\n",
       "#T_d426b_row22_col3, #T_d426b_row23_col3 {\n",
       "  background-color: #0e7936;\n",
       "  color: #f1f1f1;\n",
       "}\n",
       "#T_d426b_row23_col2 {\n",
       "  background-color: #026f2e;\n",
       "  color: #f1f1f1;\n",
       "}\n",
       "#T_d426b_row24_col3 {\n",
       "  background-color: #107a37;\n",
       "  color: #f1f1f1;\n",
       "}\n",
       "#T_d426b_row25_col3 {\n",
       "  background-color: #137d39;\n",
       "  color: #f1f1f1;\n",
       "}\n",
       "#T_d426b_row26_col2, #T_d426b_row27_col2 {\n",
       "  background-color: #1e8741;\n",
       "  color: #f1f1f1;\n",
       "}\n",
       "#T_d426b_row26_col3, #T_d426b_row27_col3 {\n",
       "  background-color: #1c8540;\n",
       "  color: #f1f1f1;\n",
       "}\n",
       "#T_d426b_row28_col2 {\n",
       "  background-color: #c7e9c0;\n",
       "  color: #000000;\n",
       "}\n",
       "#T_d426b_row28_col3 {\n",
       "  background-color: #a4da9e;\n",
       "  color: #000000;\n",
       "}\n",
       "#T_d426b_row29_col2 {\n",
       "  background-color: #d0edca;\n",
       "  color: #000000;\n",
       "}\n",
       "#T_d426b_row29_col3 {\n",
       "  background-color: #b4e1ad;\n",
       "  color: #000000;\n",
       "}\n",
       "#T_d426b_row30_col2 {\n",
       "  background-color: #d5efcf;\n",
       "  color: #000000;\n",
       "}\n",
       "#T_d426b_row30_col3 {\n",
       "  background-color: #bee5b8;\n",
       "  color: #000000;\n",
       "}\n",
       "#T_d426b_row31_col2, #T_d426b_row31_col3 {\n",
       "  background-color: #f7fcf5;\n",
       "  color: #000000;\n",
       "}\n",
       "</style>\n",
       "<table id=\"T_d426b\">\n",
       "  <thead>\n",
       "    <tr>\n",
       "      <th class=\"blank level0\" >&nbsp;</th>\n",
       "      <th id=\"T_d426b_level0_col0\" class=\"col_heading level0 col0\" >Sampling Technique</th>\n",
       "      <th id=\"T_d426b_level0_col1\" class=\"col_heading level0 col1\" >Model</th>\n",
       "      <th id=\"T_d426b_level0_col2\" class=\"col_heading level0 col2\" >Accuracy</th>\n",
       "      <th id=\"T_d426b_level0_col3\" class=\"col_heading level0 col3\" >F1-Score</th>\n",
       "    </tr>\n",
       "  </thead>\n",
       "  <tbody>\n",
       "    <tr>\n",
       "      <th id=\"T_d426b_level0_row0\" class=\"row_heading level0 row0\" >1</th>\n",
       "      <td id=\"T_d426b_row0_col0\" class=\"data row0 col0\" >SMOTE</td>\n",
       "      <td id=\"T_d426b_row0_col1\" class=\"data row0 col1\" >XGBoost</td>\n",
       "      <td id=\"T_d426b_row0_col2\" class=\"data row0 col2\" >0.847826</td>\n",
       "      <td id=\"T_d426b_row0_col3\" class=\"data row0 col3\" >0.830698</td>\n",
       "    </tr>\n",
       "    <tr>\n",
       "      <th id=\"T_d426b_level0_row1\" class=\"row_heading level0 row1\" >21</th>\n",
       "      <td id=\"T_d426b_row1_col0\" class=\"data row1 col0\" >SMOTE-Tomek</td>\n",
       "      <td id=\"T_d426b_row1_col1\" class=\"data row1 col1\" >XGBoost</td>\n",
       "      <td id=\"T_d426b_row1_col2\" class=\"data row1 col2\" >0.847826</td>\n",
       "      <td id=\"T_d426b_row1_col3\" class=\"data row1 col3\" >0.830698</td>\n",
       "    </tr>\n",
       "    <tr>\n",
       "      <th id=\"T_d426b_level0_row2\" class=\"row_heading level0 row2\" >7</th>\n",
       "      <td id=\"T_d426b_row2_col0\" class=\"data row2 col0\" >ADASYN</td>\n",
       "      <td id=\"T_d426b_row2_col1\" class=\"data row2 col1\" >Gradient Boosting</td>\n",
       "      <td id=\"T_d426b_row2_col2\" class=\"data row2 col2\" >0.782609</td>\n",
       "      <td id=\"T_d426b_row2_col3\" class=\"data row2 col3\" >0.794059</td>\n",
       "    </tr>\n",
       "    <tr>\n",
       "      <th id=\"T_d426b_level0_row3\" class=\"row_heading level0 row3\" >2</th>\n",
       "      <td id=\"T_d426b_row3_col0\" class=\"data row3 col0\" >SMOTE</td>\n",
       "      <td id=\"T_d426b_row3_col1\" class=\"data row3 col1\" >LightGBM</td>\n",
       "      <td id=\"T_d426b_row3_col2\" class=\"data row3 col2\" >0.793478</td>\n",
       "      <td id=\"T_d426b_row3_col3\" class=\"data row3 col3\" >0.789925</td>\n",
       "    </tr>\n",
       "    <tr>\n",
       "      <th id=\"T_d426b_level0_row4\" class=\"row_heading level0 row4\" >22</th>\n",
       "      <td id=\"T_d426b_row4_col0\" class=\"data row4 col0\" >SMOTE-Tomek</td>\n",
       "      <td id=\"T_d426b_row4_col1\" class=\"data row4 col1\" >LightGBM</td>\n",
       "      <td id=\"T_d426b_row4_col2\" class=\"data row4 col2\" >0.793478</td>\n",
       "      <td id=\"T_d426b_row4_col3\" class=\"data row4 col3\" >0.789925</td>\n",
       "    </tr>\n",
       "    <tr>\n",
       "      <th id=\"T_d426b_level0_row5\" class=\"row_heading level0 row5\" >6</th>\n",
       "      <td id=\"T_d426b_row5_col0\" class=\"data row5 col0\" >ADASYN</td>\n",
       "      <td id=\"T_d426b_row5_col1\" class=\"data row5 col1\" >LightGBM</td>\n",
       "      <td id=\"T_d426b_row5_col2\" class=\"data row5 col2\" >0.782609</td>\n",
       "      <td id=\"T_d426b_row5_col3\" class=\"data row5 col3\" >0.784499</td>\n",
       "    </tr>\n",
       "    <tr>\n",
       "      <th id=\"T_d426b_level0_row6\" class=\"row_heading level0 row6\" >0</th>\n",
       "      <td id=\"T_d426b_row6_col0\" class=\"data row6 col0\" >SMOTE</td>\n",
       "      <td id=\"T_d426b_row6_col1\" class=\"data row6 col1\" >Random Forest</td>\n",
       "      <td id=\"T_d426b_row6_col2\" class=\"data row6 col2\" >0.782609</td>\n",
       "      <td id=\"T_d426b_row6_col3\" class=\"data row6 col3\" >0.782609</td>\n",
       "    </tr>\n",
       "    <tr>\n",
       "      <th id=\"T_d426b_level0_row7\" class=\"row_heading level0 row7\" >20</th>\n",
       "      <td id=\"T_d426b_row7_col0\" class=\"data row7 col0\" >SMOTE-Tomek</td>\n",
       "      <td id=\"T_d426b_row7_col1\" class=\"data row7 col1\" >Random Forest</td>\n",
       "      <td id=\"T_d426b_row7_col2\" class=\"data row7 col2\" >0.782609</td>\n",
       "      <td id=\"T_d426b_row7_col3\" class=\"data row7 col3\" >0.782609</td>\n",
       "    </tr>\n",
       "    <tr>\n",
       "      <th id=\"T_d426b_level0_row8\" class=\"row_heading level0 row8\" >5</th>\n",
       "      <td id=\"T_d426b_row8_col0\" class=\"data row8 col0\" >ADASYN</td>\n",
       "      <td id=\"T_d426b_row8_col1\" class=\"data row8 col1\" >XGBoost</td>\n",
       "      <td id=\"T_d426b_row8_col2\" class=\"data row8 col2\" >0.782609</td>\n",
       "      <td id=\"T_d426b_row8_col3\" class=\"data row8 col3\" >0.780193</td>\n",
       "    </tr>\n",
       "    <tr>\n",
       "      <th id=\"T_d426b_level0_row9\" class=\"row_heading level0 row9\" >4</th>\n",
       "      <td id=\"T_d426b_row9_col0\" class=\"data row9 col0\" >ADASYN</td>\n",
       "      <td id=\"T_d426b_row9_col1\" class=\"data row9 col1\" >Random Forest</td>\n",
       "      <td id=\"T_d426b_row9_col2\" class=\"data row9 col2\" >0.782609</td>\n",
       "      <td id=\"T_d426b_row9_col3\" class=\"data row9 col3\" >0.778852</td>\n",
       "    </tr>\n",
       "    <tr>\n",
       "      <th id=\"T_d426b_level0_row10\" class=\"row_heading level0 row10\" >8</th>\n",
       "      <td id=\"T_d426b_row10_col0\" class=\"data row10 col0\" >Borderline-SMOTE</td>\n",
       "      <td id=\"T_d426b_row10_col1\" class=\"data row10 col1\" >Random Forest</td>\n",
       "      <td id=\"T_d426b_row10_col2\" class=\"data row10 col2\" >0.793478</td>\n",
       "      <td id=\"T_d426b_row10_col3\" class=\"data row10 col3\" >0.777839</td>\n",
       "    </tr>\n",
       "    <tr>\n",
       "      <th id=\"T_d426b_level0_row11\" class=\"row_heading level0 row11\" >18</th>\n",
       "      <td id=\"T_d426b_row11_col0\" class=\"data row11 col0\" >Random-OverSampling</td>\n",
       "      <td id=\"T_d426b_row11_col1\" class=\"data row11 col1\" >LightGBM</td>\n",
       "      <td id=\"T_d426b_row11_col2\" class=\"data row11 col2\" >0.826087</td>\n",
       "      <td id=\"T_d426b_row11_col3\" class=\"data row11 col3\" >0.772590</td>\n",
       "    </tr>\n",
       "    <tr>\n",
       "      <th id=\"T_d426b_level0_row12\" class=\"row_heading level0 row12\" >17</th>\n",
       "      <td id=\"T_d426b_row12_col0\" class=\"data row12 col0\" >Random-OverSampling</td>\n",
       "      <td id=\"T_d426b_row12_col1\" class=\"data row12 col1\" >XGBoost</td>\n",
       "      <td id=\"T_d426b_row12_col2\" class=\"data row12 col2\" >0.815217</td>\n",
       "      <td id=\"T_d426b_row12_col3\" class=\"data row12 col3\" >0.771607</td>\n",
       "    </tr>\n",
       "    <tr>\n",
       "      <th id=\"T_d426b_level0_row13\" class=\"row_heading level0 row13\" >9</th>\n",
       "      <td id=\"T_d426b_row13_col0\" class=\"data row13 col0\" >Borderline-SMOTE</td>\n",
       "      <td id=\"T_d426b_row13_col1\" class=\"data row13 col1\" >XGBoost</td>\n",
       "      <td id=\"T_d426b_row13_col2\" class=\"data row13 col2\" >0.793478</td>\n",
       "      <td id=\"T_d426b_row13_col3\" class=\"data row13 col3\" >0.771280</td>\n",
       "    </tr>\n",
       "    <tr>\n",
       "      <th id=\"T_d426b_level0_row14\" class=\"row_heading level0 row14\" >10</th>\n",
       "      <td id=\"T_d426b_row14_col0\" class=\"data row14 col0\" >Borderline-SMOTE</td>\n",
       "      <td id=\"T_d426b_row14_col1\" class=\"data row14 col1\" >LightGBM</td>\n",
       "      <td id=\"T_d426b_row14_col2\" class=\"data row14 col2\" >0.793478</td>\n",
       "      <td id=\"T_d426b_row14_col3\" class=\"data row14 col3\" >0.766265</td>\n",
       "    </tr>\n",
       "    <tr>\n",
       "      <th id=\"T_d426b_level0_row15\" class=\"row_heading level0 row15\" >12</th>\n",
       "      <td id=\"T_d426b_row15_col0\" class=\"data row15 col0\" >SVM-SMOTE</td>\n",
       "      <td id=\"T_d426b_row15_col1\" class=\"data row15 col1\" >Random Forest</td>\n",
       "      <td id=\"T_d426b_row15_col2\" class=\"data row15 col2\" >0.793478</td>\n",
       "      <td id=\"T_d426b_row15_col3\" class=\"data row15 col3\" >0.763306</td>\n",
       "    </tr>\n",
       "    <tr>\n",
       "      <th id=\"T_d426b_level0_row16\" class=\"row_heading level0 row16\" >30</th>\n",
       "      <td id=\"T_d426b_row16_col0\" class=\"data row16 col0\" >Original (No Sampling)</td>\n",
       "      <td id=\"T_d426b_row16_col1\" class=\"data row16 col1\" >LightGBM</td>\n",
       "      <td id=\"T_d426b_row16_col2\" class=\"data row16 col2\" >0.836957</td>\n",
       "      <td id=\"T_d426b_row16_col3\" class=\"data row16 col3\" >0.762670</td>\n",
       "    </tr>\n",
       "    <tr>\n",
       "      <th id=\"T_d426b_level0_row17\" class=\"row_heading level0 row17\" >13</th>\n",
       "      <td id=\"T_d426b_row17_col0\" class=\"data row17 col0\" >SVM-SMOTE</td>\n",
       "      <td id=\"T_d426b_row17_col1\" class=\"data row17 col1\" >XGBoost</td>\n",
       "      <td id=\"T_d426b_row17_col2\" class=\"data row17 col2\" >0.793478</td>\n",
       "      <td id=\"T_d426b_row17_col3\" class=\"data row17 col3\" >0.759452</td>\n",
       "    </tr>\n",
       "    <tr>\n",
       "      <th id=\"T_d426b_level0_row18\" class=\"row_heading level0 row18\" >16</th>\n",
       "      <td id=\"T_d426b_row18_col0\" class=\"data row18 col0\" >Random-OverSampling</td>\n",
       "      <td id=\"T_d426b_row18_col1\" class=\"data row18 col1\" >Random Forest</td>\n",
       "      <td id=\"T_d426b_row18_col2\" class=\"data row18 col2\" >0.826087</td>\n",
       "      <td id=\"T_d426b_row18_col3\" class=\"data row18 col3\" >0.757246</td>\n",
       "    </tr>\n",
       "    <tr>\n",
       "      <th id=\"T_d426b_level0_row19\" class=\"row_heading level0 row19\" >29</th>\n",
       "      <td id=\"T_d426b_row19_col0\" class=\"data row19 col0\" >Original (No Sampling)</td>\n",
       "      <td id=\"T_d426b_row19_col1\" class=\"data row19 col1\" >XGBoost</td>\n",
       "      <td id=\"T_d426b_row19_col2\" class=\"data row19 col2\" >0.826087</td>\n",
       "      <td id=\"T_d426b_row19_col3\" class=\"data row19 col3\" >0.757246</td>\n",
       "    </tr>\n",
       "    <tr>\n",
       "      <th id=\"T_d426b_level0_row20\" class=\"row_heading level0 row20\" >28</th>\n",
       "      <td id=\"T_d426b_row20_col0\" class=\"data row20 col0\" >Original (No Sampling)</td>\n",
       "      <td id=\"T_d426b_row20_col1\" class=\"data row20 col1\" >Random Forest</td>\n",
       "      <td id=\"T_d426b_row20_col2\" class=\"data row20 col2\" >0.815217</td>\n",
       "      <td id=\"T_d426b_row20_col3\" class=\"data row20 col3\" >0.751757</td>\n",
       "    </tr>\n",
       "    <tr>\n",
       "      <th id=\"T_d426b_level0_row21\" class=\"row_heading level0 row21\" >19</th>\n",
       "      <td id=\"T_d426b_row21_col0\" class=\"data row21 col0\" >Random-OverSampling</td>\n",
       "      <td id=\"T_d426b_row21_col1\" class=\"data row21 col1\" >Gradient Boosting</td>\n",
       "      <td id=\"T_d426b_row21_col2\" class=\"data row21 col2\" >0.804348</td>\n",
       "      <td id=\"T_d426b_row21_col3\" class=\"data row21 col3\" >0.750725</td>\n",
       "    </tr>\n",
       "    <tr>\n",
       "      <th id=\"T_d426b_level0_row22\" class=\"row_heading level0 row22\" >14</th>\n",
       "      <td id=\"T_d426b_row22_col0\" class=\"data row22 col0\" >SVM-SMOTE</td>\n",
       "      <td id=\"T_d426b_row22_col1\" class=\"data row22 col1\" >LightGBM</td>\n",
       "      <td id=\"T_d426b_row22_col2\" class=\"data row22 col2\" >0.782609</td>\n",
       "      <td id=\"T_d426b_row22_col3\" class=\"data row22 col3\" >0.749055</td>\n",
       "    </tr>\n",
       "    <tr>\n",
       "      <th id=\"T_d426b_level0_row23\" class=\"row_heading level0 row23\" >15</th>\n",
       "      <td id=\"T_d426b_row23_col0\" class=\"data row23 col0\" >SVM-SMOTE</td>\n",
       "      <td id=\"T_d426b_row23_col1\" class=\"data row23 col1\" >Gradient Boosting</td>\n",
       "      <td id=\"T_d426b_row23_col2\" class=\"data row23 col2\" >0.771739</td>\n",
       "      <td id=\"T_d426b_row23_col3\" class=\"data row23 col3\" >0.747812</td>\n",
       "    </tr>\n",
       "    <tr>\n",
       "      <th id=\"T_d426b_level0_row24\" class=\"row_heading level0 row24\" >11</th>\n",
       "      <td id=\"T_d426b_row24_col0\" class=\"data row24 col0\" >Borderline-SMOTE</td>\n",
       "      <td id=\"T_d426b_row24_col1\" class=\"data row24 col1\" >Gradient Boosting</td>\n",
       "      <td id=\"T_d426b_row24_col2\" class=\"data row24 col2\" >0.750000</td>\n",
       "      <td id=\"T_d426b_row24_col3\" class=\"data row24 col3\" >0.746377</td>\n",
       "    </tr>\n",
       "    <tr>\n",
       "      <th id=\"T_d426b_level0_row25\" class=\"row_heading level0 row25\" >31</th>\n",
       "      <td id=\"T_d426b_row25_col0\" class=\"data row25 col0\" >Original (No Sampling)</td>\n",
       "      <td id=\"T_d426b_row25_col1\" class=\"data row25 col1\" >Gradient Boosting</td>\n",
       "      <td id=\"T_d426b_row25_col2\" class=\"data row25 col2\" >0.793478</td>\n",
       "      <td id=\"T_d426b_row25_col3\" class=\"data row25 col3\" >0.740580</td>\n",
       "    </tr>\n",
       "    <tr>\n",
       "      <th id=\"T_d426b_level0_row26\" class=\"row_heading level0 row26\" >3</th>\n",
       "      <td id=\"T_d426b_row26_col0\" class=\"data row26 col0\" >SMOTE</td>\n",
       "      <td id=\"T_d426b_row26_col1\" class=\"data row26 col1\" >Gradient Boosting</td>\n",
       "      <td id=\"T_d426b_row26_col2\" class=\"data row26 col2\" >0.717391</td>\n",
       "      <td id=\"T_d426b_row26_col3\" class=\"data row26 col3\" >0.725777</td>\n",
       "    </tr>\n",
       "    <tr>\n",
       "      <th id=\"T_d426b_level0_row27\" class=\"row_heading level0 row27\" >23</th>\n",
       "      <td id=\"T_d426b_row27_col0\" class=\"data row27 col0\" >SMOTE-Tomek</td>\n",
       "      <td id=\"T_d426b_row27_col1\" class=\"data row27 col1\" >Gradient Boosting</td>\n",
       "      <td id=\"T_d426b_row27_col2\" class=\"data row27 col2\" >0.717391</td>\n",
       "      <td id=\"T_d426b_row27_col3\" class=\"data row27 col3\" >0.725777</td>\n",
       "    </tr>\n",
       "    <tr>\n",
       "      <th id=\"T_d426b_level0_row28\" class=\"row_heading level0 row28\" >25</th>\n",
       "      <td id=\"T_d426b_row28_col0\" class=\"data row28 col0\" >SMOTE-ENN</td>\n",
       "      <td id=\"T_d426b_row28_col1\" class=\"data row28 col1\" >XGBoost</td>\n",
       "      <td id=\"T_d426b_row28_col2\" class=\"data row28 col2\" >0.423913</td>\n",
       "      <td id=\"T_d426b_row28_col3\" class=\"data row28 col3\" >0.535237</td>\n",
       "    </tr>\n",
       "    <tr>\n",
       "      <th id=\"T_d426b_level0_row29\" class=\"row_heading level0 row29\" >26</th>\n",
       "      <td id=\"T_d426b_row29_col0\" class=\"data row29 col0\" >SMOTE-ENN</td>\n",
       "      <td id=\"T_d426b_row29_col1\" class=\"data row29 col1\" >LightGBM</td>\n",
       "      <td id=\"T_d426b_row29_col2\" class=\"data row29 col2\" >0.402174</td>\n",
       "      <td id=\"T_d426b_row29_col3\" class=\"data row29 col3\" >0.511555</td>\n",
       "    </tr>\n",
       "    <tr>\n",
       "      <th id=\"T_d426b_level0_row30\" class=\"row_heading level0 row30\" >27</th>\n",
       "      <td id=\"T_d426b_row30_col0\" class=\"data row30 col0\" >SMOTE-ENN</td>\n",
       "      <td id=\"T_d426b_row30_col1\" class=\"data row30 col1\" >Gradient Boosting</td>\n",
       "      <td id=\"T_d426b_row30_col2\" class=\"data row30 col2\" >0.391304</td>\n",
       "      <td id=\"T_d426b_row30_col3\" class=\"data row30 col3\" >0.496133</td>\n",
       "    </tr>\n",
       "    <tr>\n",
       "      <th id=\"T_d426b_level0_row31\" class=\"row_heading level0 row31\" >24</th>\n",
       "      <td id=\"T_d426b_row31_col0\" class=\"data row31 col0\" >SMOTE-ENN</td>\n",
       "      <td id=\"T_d426b_row31_col1\" class=\"data row31 col1\" >Random Forest</td>\n",
       "      <td id=\"T_d426b_row31_col2\" class=\"data row31 col2\" >0.282609</td>\n",
       "      <td id=\"T_d426b_row31_col3\" class=\"data row31 col3\" >0.366478</td>\n",
       "    </tr>\n",
       "  </tbody>\n",
       "</table>\n"
      ],
      "text/plain": [
       "<pandas.io.formats.style.Styler at 0x1c9f7eede80>"
      ]
     },
     "metadata": {},
     "output_type": "display_data"
    }
   ],
   "source": [
    "# Create comparison dataframe\n",
    "comparison_data = []\n",
    "\n",
    "for sampling_name, models_dict in results.items():\n",
    "    for model_name, metrics in models_dict.items():\n",
    "        comparison_data.append({\n",
    "            'Sampling Technique': sampling_name,\n",
    "            'Model': model_name,\n",
    "            'Accuracy': metrics['accuracy'],\n",
    "            'F1-Score': metrics['f1_score']\n",
    "        })\n",
    "\n",
    "comparison_df = pd.DataFrame(comparison_data)\n",
    "comparison_df = comparison_df.sort_values(['F1-Score', 'Accuracy'], ascending=False)\n",
    "\n",
    "print(\"\\n\" + \"=\"*100)\n",
    "print(\"COMPREHENSIVE RESULTS (Sorted by F1-Score)\")\n",
    "print(\"=\"*100)\n",
    "display(comparison_df.style.background_gradient(cmap='Greens', subset=['Accuracy', 'F1-Score']))"
   ]
  },
  {
   "cell_type": "code",
   "execution_count": 21,
   "metadata": {},
   "outputs": [
    {
     "name": "stdout",
     "output_type": "stream",
     "text": [
      "\n",
      "================================================================================\n",
      "🏆 BEST COMBINATION\n",
      "================================================================================\n",
      "Sampling Technique: SMOTE\n",
      "Model: XGBoost\n",
      "Accuracy: 0.8478\n",
      "F1-Score: 0.8307\n",
      "\n",
      "📈 Improvement over original: +8.92%\n"
     ]
    }
   ],
   "source": [
    "# Find best combination\n",
    "best_row = comparison_df.iloc[0]\n",
    "\n",
    "print(\"\\n\" + \"=\"*80)\n",
    "print(\"🏆 BEST COMBINATION\")\n",
    "print(\"=\"*80)\n",
    "print(f\"Sampling Technique: {best_row['Sampling Technique']}\")\n",
    "print(f\"Model: {best_row['Model']}\")\n",
    "print(f\"Accuracy: {best_row['Accuracy']:.4f}\")\n",
    "print(f\"F1-Score: {best_row['F1-Score']:.4f}\")\n",
    "\n",
    "# Improvement over original\n",
    "original_best = comparison_df[comparison_df['Sampling Technique'] == 'Original (No Sampling)'].iloc[0]\n",
    "improvement = ((best_row['F1-Score'] - original_best['F1-Score']) / original_best['F1-Score']) * 100\n",
    "\n",
    "print(f\"\\n📈 Improvement over original: {improvement:+.2f}%\")"
   ]
  },
  {
   "cell_type": "markdown",
   "metadata": {},
   "source": [
    "## 9. Visualize Final Results"
   ]
  },
  {
   "cell_type": "code",
   "execution_count": null,
   "metadata": {},
   "outputs": [],
   "source": [
    "# Create comprehensive visualization\n",
    "fig, axes = plt.subplots(2, 2, figsize=(18, 12))\n",
    "\n",
    "# Plot 1: Top 10 combinations\n",
    "top_10 = comparison_df.head(10)\n",
    "axes[0, 0].barh(range(len(top_10)), top_10['F1-Score'], color='lightblue', edgecolor='black')\n",
    "axes[0, 0].set_yticks(range(len(top_10)))\n",
    "axes[0, 0].set_yticklabels([f\"{row['Sampling Technique']}\\n{row['Model']}\" for _, row in top_10.iterrows()], fontsize=8)\n",
    "axes[0, 0].set_xlabel('F1-Score', fontweight='bold')\n",
    "axes[0, 0].set_title('Top 10 Combinations (by F1-Score)', fontsize=12, fontweight='bold')\n",
    "axes[0, 0].invert_yaxis()\n",
    "for i, v in enumerate(top_10['F1-Score']):\n",
    "    axes[0, 0].text(v + 0.005, i, f'{v:.3f}', va='center', fontsize=8)\n",
    "\n",
    "# Plot 2: Average by sampling technique\n",
    "avg_by_sampling = comparison_df.groupby('Sampling Technique')[['Accuracy', 'F1-Score']].mean().sort_values('F1-Score', ascending=False)\n",
    "avg_by_sampling.plot(kind='barh', ax=axes[0, 1], color=['skyblue', 'lightcoral'], edgecolor='black')\n",
    "axes[0, 1].set_xlabel('Score', fontweight='bold')\n",
    "axes[0, 1].set_title('Average Performance by Sampling Technique', fontsize=12, fontweight='bold')\n",
    "axes[0, 1].legend(['Accuracy', 'F1-Score'])\n",
    "\n",
    "# Plot 3: Average by model\n",
    "avg_by_model = comparison_df.groupby('Model')[['Accuracy', 'F1-Score']].mean().sort_values('F1-Score', ascending=False)\n",
    "avg_by_model.plot(kind='bar', ax=axes[1, 0], color=['lightgreen', 'orange'], edgecolor='black')\n",
    "axes[1, 0].set_xlabel('Model', fontweight='bold')\n",
    "axes[1, 0].set_ylabel('Score', fontweight='bold')\n",
    "axes[1, 0].set_title('Average Performance by Model', fontsize=12, fontweight='bold')\n",
    "axes[1, 0].legend(['Accuracy', 'F1-Score'])\n",
    "axes[1, 0].tick_params(axis='x', rotation=45)\n",
    "\n",
    "# Plot 4: Heatmap\n",
    "pivot_table = comparison_df.pivot(index='Sampling Technique', columns='Model', values='F1-Score')\n",
    "sns.heatmap(pivot_table, annot=True, fmt='.3f', cmap='YlGnBu', ax=axes[1, 1], cbar_kws={'label': 'F1-Score'})\n",
    "axes[1, 1].set_title('F1-Score Heatmap', fontsize=12, fontweight='bold')\n",
    "axes[1, 1].set_xlabel('Model', fontweight='bold')\n",
    "axes[1, 1].set_ylabel('Sampling Technique', fontweight='bold')\n",
    "\n",
    "plt.tight_layout()\n",
    "plt.show()"
   ]
  },
  {
   "cell_type": "markdown",
   "metadata": {},
   "source": [
    "## 10. Detailed Analysis of Best Model"
   ]
  },
  {
   "cell_type": "code",
   "execution_count": 22,
   "metadata": {},
   "outputs": [
    {
     "name": "stdout",
     "output_type": "stream",
     "text": [
      "Classification Report for Best Combination:\n",
      "Sampling: SMOTE\n",
      "Model: XGBoost\n",
      "\n",
      "================================================================================\n"
     ]
    },
    {
     "ename": "TypeError",
     "evalue": "object of type 'numpy.int64' has no len()",
     "output_type": "error",
     "traceback": [
      "\u001b[31m---------------------------------------------------------------------------\u001b[39m",
      "\u001b[31mTypeError\u001b[39m                                 Traceback (most recent call last)",
      "\u001b[36mCell\u001b[39m\u001b[36m \u001b[39m\u001b[32mIn[22]\u001b[39m\u001b[32m, line 10\u001b[39m\n\u001b[32m      8\u001b[39m \u001b[38;5;28mprint\u001b[39m(\u001b[33mf\u001b[39m\u001b[33m\"\u001b[39m\u001b[33mModel: \u001b[39m\u001b[38;5;132;01m{\u001b[39;00mbest_model\u001b[38;5;132;01m}\u001b[39;00m\u001b[33m\"\u001b[39m)\n\u001b[32m      9\u001b[39m \u001b[38;5;28mprint\u001b[39m(\u001b[33m\"\u001b[39m\u001b[38;5;130;01m\\n\u001b[39;00m\u001b[33m\"\u001b[39m + \u001b[33m\"\u001b[39m\u001b[33m=\u001b[39m\u001b[33m\"\u001b[39m*\u001b[32m80\u001b[39m)\n\u001b[32m---> \u001b[39m\u001b[32m10\u001b[39m \u001b[38;5;28mprint\u001b[39m(\u001b[43mclassification_report\u001b[49m\u001b[43m(\u001b[49m\u001b[43my_test\u001b[49m\u001b[43m,\u001b[49m\u001b[43m \u001b[49m\u001b[43mbest_predictions\u001b[49m\u001b[43m,\u001b[49m\u001b[43m \u001b[49m\u001b[43mtarget_names\u001b[49m\u001b[43m=\u001b[49m\u001b[43mle\u001b[49m\u001b[43m.\u001b[49m\u001b[43mclasses_\u001b[49m\u001b[43m)\u001b[49m)\n",
      "\u001b[36mFile \u001b[39m\u001b[32m~\\AppData\\Local\\Packages\\PythonSoftwareFoundation.Python.3.13_qbz5n2kfra8p0\\LocalCache\\local-packages\\Python313\\site-packages\\sklearn\\utils\\_param_validation.py:218\u001b[39m, in \u001b[36mvalidate_params.<locals>.decorator.<locals>.wrapper\u001b[39m\u001b[34m(*args, **kwargs)\u001b[39m\n\u001b[32m    212\u001b[39m \u001b[38;5;28;01mtry\u001b[39;00m:\n\u001b[32m    213\u001b[39m     \u001b[38;5;28;01mwith\u001b[39;00m config_context(\n\u001b[32m    214\u001b[39m         skip_parameter_validation=(\n\u001b[32m    215\u001b[39m             prefer_skip_nested_validation \u001b[38;5;129;01mor\u001b[39;00m global_skip_validation\n\u001b[32m    216\u001b[39m         )\n\u001b[32m    217\u001b[39m     ):\n\u001b[32m--> \u001b[39m\u001b[32m218\u001b[39m         \u001b[38;5;28;01mreturn\u001b[39;00m \u001b[43mfunc\u001b[49m\u001b[43m(\u001b[49m\u001b[43m*\u001b[49m\u001b[43margs\u001b[49m\u001b[43m,\u001b[49m\u001b[43m \u001b[49m\u001b[43m*\u001b[49m\u001b[43m*\u001b[49m\u001b[43mkwargs\u001b[49m\u001b[43m)\u001b[49m\n\u001b[32m    219\u001b[39m \u001b[38;5;28;01mexcept\u001b[39;00m InvalidParameterError \u001b[38;5;28;01mas\u001b[39;00m e:\n\u001b[32m    220\u001b[39m     \u001b[38;5;66;03m# When the function is just a wrapper around an estimator, we allow\u001b[39;00m\n\u001b[32m    221\u001b[39m     \u001b[38;5;66;03m# the function to delegate validation to the estimator, but we replace\u001b[39;00m\n\u001b[32m    222\u001b[39m     \u001b[38;5;66;03m# the name of the estimator by the name of the function in the error\u001b[39;00m\n\u001b[32m    223\u001b[39m     \u001b[38;5;66;03m# message to avoid confusion.\u001b[39;00m\n\u001b[32m    224\u001b[39m     msg = re.sub(\n\u001b[32m    225\u001b[39m         \u001b[33mr\u001b[39m\u001b[33m\"\u001b[39m\u001b[33mparameter of \u001b[39m\u001b[33m\\\u001b[39m\u001b[33mw+ must be\u001b[39m\u001b[33m\"\u001b[39m,\n\u001b[32m    226\u001b[39m         \u001b[33mf\u001b[39m\u001b[33m\"\u001b[39m\u001b[33mparameter of \u001b[39m\u001b[38;5;132;01m{\u001b[39;00mfunc.\u001b[34m__qualname__\u001b[39m\u001b[38;5;132;01m}\u001b[39;00m\u001b[33m must be\u001b[39m\u001b[33m\"\u001b[39m,\n\u001b[32m    227\u001b[39m         \u001b[38;5;28mstr\u001b[39m(e),\n\u001b[32m    228\u001b[39m     )\n",
      "\u001b[36mFile \u001b[39m\u001b[32m~\\AppData\\Local\\Packages\\PythonSoftwareFoundation.Python.3.13_qbz5n2kfra8p0\\LocalCache\\local-packages\\Python313\\site-packages\\sklearn\\metrics\\_classification.py:3001\u001b[39m, in \u001b[36mclassification_report\u001b[39m\u001b[34m(y_true, y_pred, labels, target_names, sample_weight, digits, output_dict, zero_division)\u001b[39m\n\u001b[32m   2999\u001b[39m \u001b[38;5;28;01melse\u001b[39;00m:\n\u001b[32m   3000\u001b[39m     longest_last_line_heading = \u001b[33m\"\u001b[39m\u001b[33mweighted avg\u001b[39m\u001b[33m\"\u001b[39m\n\u001b[32m-> \u001b[39m\u001b[32m3001\u001b[39m     name_width = \u001b[38;5;28;43mmax\u001b[39;49m\u001b[43m(\u001b[49m\u001b[38;5;28;43mlen\u001b[39;49m\u001b[43m(\u001b[49m\u001b[43mcn\u001b[49m\u001b[43m)\u001b[49m\u001b[43m \u001b[49m\u001b[38;5;28;43;01mfor\u001b[39;49;00m\u001b[43m \u001b[49m\u001b[43mcn\u001b[49m\u001b[43m \u001b[49m\u001b[38;5;129;43;01min\u001b[39;49;00m\u001b[43m \u001b[49m\u001b[43mtarget_names\u001b[49m\u001b[43m)\u001b[49m\n\u001b[32m   3002\u001b[39m     width = \u001b[38;5;28mmax\u001b[39m(name_width, \u001b[38;5;28mlen\u001b[39m(longest_last_line_heading), digits)\n\u001b[32m   3003\u001b[39m     head_fmt = \u001b[33m\"\u001b[39m\u001b[33m{\u001b[39m\u001b[33m:>\u001b[39m\u001b[38;5;132;01m{width}\u001b[39;00m\u001b[33ms} \u001b[39m\u001b[33m\"\u001b[39m + \u001b[33m\"\u001b[39m\u001b[33m \u001b[39m\u001b[38;5;132;01m{:>9}\u001b[39;00m\u001b[33m\"\u001b[39m * \u001b[38;5;28mlen\u001b[39m(headers)\n",
      "\u001b[36mFile \u001b[39m\u001b[32m~\\AppData\\Local\\Packages\\PythonSoftwareFoundation.Python.3.13_qbz5n2kfra8p0\\LocalCache\\local-packages\\Python313\\site-packages\\sklearn\\metrics\\_classification.py:3001\u001b[39m, in \u001b[36m<genexpr>\u001b[39m\u001b[34m(.0)\u001b[39m\n\u001b[32m   2999\u001b[39m \u001b[38;5;28;01melse\u001b[39;00m:\n\u001b[32m   3000\u001b[39m     longest_last_line_heading = \u001b[33m\"\u001b[39m\u001b[33mweighted avg\u001b[39m\u001b[33m\"\u001b[39m\n\u001b[32m-> \u001b[39m\u001b[32m3001\u001b[39m     name_width = \u001b[38;5;28mmax\u001b[39m(\u001b[38;5;28;43mlen\u001b[39;49m\u001b[43m(\u001b[49m\u001b[43mcn\u001b[49m\u001b[43m)\u001b[49m \u001b[38;5;28;01mfor\u001b[39;00m cn \u001b[38;5;129;01min\u001b[39;00m target_names)\n\u001b[32m   3002\u001b[39m     width = \u001b[38;5;28mmax\u001b[39m(name_width, \u001b[38;5;28mlen\u001b[39m(longest_last_line_heading), digits)\n\u001b[32m   3003\u001b[39m     head_fmt = \u001b[33m\"\u001b[39m\u001b[33m{\u001b[39m\u001b[33m:>\u001b[39m\u001b[38;5;132;01m{width}\u001b[39;00m\u001b[33ms} \u001b[39m\u001b[33m\"\u001b[39m + \u001b[33m\"\u001b[39m\u001b[33m \u001b[39m\u001b[38;5;132;01m{:>9}\u001b[39;00m\u001b[33m\"\u001b[39m * \u001b[38;5;28mlen\u001b[39m(headers)\n",
      "\u001b[31mTypeError\u001b[39m: object of type 'numpy.int64' has no len()"
     ]
    }
   ],
   "source": [
    "# Get best model predictions\n",
    "best_sampling = best_row['Sampling Technique']\n",
    "best_model = best_row['Model']\n",
    "best_predictions = results[best_sampling][best_model]['predictions']\n",
    "\n",
    "print(f\"Classification Report for Best Combination:\")\n",
    "print(f\"Sampling: {best_sampling}\")\n",
    "print(f\"Model: {best_model}\")\n",
    "print(\"\\n\" + \"=\"*80)\n",
    "print(classification_report(y_test, best_predictions, target_names=le.classes_))"
   ]
  },
  {
   "cell_type": "code",
   "execution_count": null,
   "metadata": {},
   "outputs": [],
   "source": [
    "# Confusion matrix for best model\n",
    "plt.figure(figsize=(10, 8))\n",
    "cm = confusion_matrix(y_test, best_predictions)\n",
    "sns.heatmap(cm, annot=True, fmt='d', cmap='Blues',\n",
    "            xticklabels=le.classes_,\n",
    "            yticklabels=le.classes_,\n",
    "            cbar_kws={'label': 'Count'})\n",
    "plt.title(f'Confusion Matrix\\n{best_sampling} + {best_model}', fontsize=14, fontweight='bold')\n",
    "plt.ylabel('True Label', fontweight='bold')\n",
    "plt.xlabel('Predicted Label', fontweight='bold')\n",
    "plt.tight_layout()\n",
    "plt.show()"
   ]
  },
  {
   "cell_type": "markdown",
   "metadata": {},
   "source": [
    "## 11. Export Results"
   ]
  },
  {
   "cell_type": "code",
   "execution_count": null,
   "metadata": {},
   "outputs": [],
   "source": [
    "# Save comparison results\n",
    "comparison_df.to_csv('sampling_comparison_results.csv', index=False)\n",
    "print(\"✅ Results saved to: sampling_comparison_results.csv\")\n",
    "\n",
    "# Save summary\n",
    "summary = {\n",
    "    'Best Sampling Technique': best_sampling,\n",
    "    'Best Model': best_model,\n",
    "    'Best Accuracy': best_row['Accuracy'],\n",
    "    'Best F1-Score': best_row['F1-Score'],\n",
    "    'Improvement over Original': f\"{improvement:+.2f}%\"\n",
    "}\n",
    "\n",
    "summary_df = pd.DataFrame([summary])\n",
    "summary_df.to_csv('best_combination_summary.csv', index=False)\n",
    "print(\"✅ Summary saved to: best_combination_summary.csv\")"
   ]
  },
  {
   "cell_type": "markdown",
   "metadata": {},
   "source": [
    "## 12. Summary & Recommendations"
   ]
  },
  {
   "cell_type": "code",
   "execution_count": 23,
   "metadata": {},
   "outputs": [
    {
     "name": "stdout",
     "output_type": "stream",
     "text": [
      "\n",
      "================================================================================\n",
      "FINAL SUMMARY & RECOMMENDATIONS\n",
      "================================================================================\n",
      "\n",
      "✅ Tested 8 sampling techniques\n",
      "✅ Tested 4 machine learning models\n",
      "✅ Total combinations evaluated: 32\n",
      "\n",
      "🏆 Best Configuration:\n",
      "   Sampling: SMOTE\n",
      "   Model: XGBoost\n",
      "   Accuracy: 0.8478\n",
      "   F1-Score: 0.8307\n",
      "   Improvement: +8.92%\n",
      "\n",
      "📊 Top 3 Sampling Techniques:\n"
     ]
    },
    {
     "ename": "NameError",
     "evalue": "name 'avg_by_sampling' is not defined",
     "output_type": "error",
     "traceback": [
      "\u001b[31m---------------------------------------------------------------------------\u001b[39m",
      "\u001b[31mNameError\u001b[39m                                 Traceback (most recent call last)",
      "\u001b[36mCell\u001b[39m\u001b[36m \u001b[39m\u001b[32mIn[23]\u001b[39m\u001b[32m, line 17\u001b[39m\n\u001b[32m     14\u001b[39m \u001b[38;5;28mprint\u001b[39m(\u001b[33mf\u001b[39m\u001b[33m\"\u001b[39m\u001b[33m   Improvement: \u001b[39m\u001b[38;5;132;01m{\u001b[39;00mimprovement\u001b[38;5;132;01m:\u001b[39;00m\u001b[33m+.2f\u001b[39m\u001b[38;5;132;01m}\u001b[39;00m\u001b[33m%\u001b[39m\u001b[33m\"\u001b[39m)\n\u001b[32m     16\u001b[39m \u001b[38;5;28mprint\u001b[39m(\u001b[33mf\u001b[39m\u001b[33m\"\u001b[39m\u001b[38;5;130;01m\\n\u001b[39;00m\u001b[33m📊 Top 3 Sampling Techniques:\u001b[39m\u001b[33m\"\u001b[39m)\n\u001b[32m---> \u001b[39m\u001b[32m17\u001b[39m top_sampling = \u001b[43mavg_by_sampling\u001b[49m.head(\u001b[32m3\u001b[39m)\n\u001b[32m     18\u001b[39m \u001b[38;5;28;01mfor\u001b[39;00m i, (name, row) \u001b[38;5;129;01min\u001b[39;00m \u001b[38;5;28menumerate\u001b[39m(top_sampling.iterrows(), \u001b[32m1\u001b[39m):\n\u001b[32m     19\u001b[39m     \u001b[38;5;28mprint\u001b[39m(\u001b[33mf\u001b[39m\u001b[33m\"\u001b[39m\u001b[33m   \u001b[39m\u001b[38;5;132;01m{\u001b[39;00mi\u001b[38;5;132;01m}\u001b[39;00m\u001b[33m. \u001b[39m\u001b[38;5;132;01m{\u001b[39;00mname\u001b[38;5;132;01m}\u001b[39;00m\u001b[33m: F1=\u001b[39m\u001b[38;5;132;01m{\u001b[39;00mrow[\u001b[33m'\u001b[39m\u001b[33mF1-Score\u001b[39m\u001b[33m'\u001b[39m]\u001b[38;5;132;01m:\u001b[39;00m\u001b[33m.4f\u001b[39m\u001b[38;5;132;01m}\u001b[39;00m\u001b[33m\"\u001b[39m)\n",
      "\u001b[31mNameError\u001b[39m: name 'avg_by_sampling' is not defined"
     ]
    }
   ],
   "source": [
    "print(\"\\n\" + \"=\"*80)\n",
    "print(\"FINAL SUMMARY & RECOMMENDATIONS\")\n",
    "print(\"=\"*80)\n",
    "\n",
    "print(f\"\\n✅ Tested {len(sampling_techniques)} sampling techniques\")\n",
    "print(f\"✅ Tested {len(models)} machine learning models\")\n",
    "print(f\"✅ Total combinations evaluated: {len(comparison_df)}\")\n",
    "\n",
    "print(f\"\\n🏆 Best Configuration:\")\n",
    "print(f\"   Sampling: {best_sampling}\")\n",
    "print(f\"   Model: {best_model}\")\n",
    "print(f\"   Accuracy: {best_row['Accuracy']:.4f}\")\n",
    "print(f\"   F1-Score: {best_row['F1-Score']:.4f}\")\n",
    "print(f\"   Improvement: {improvement:+.2f}%\")\n",
    "\n",
    "print(f\"\\n📊 Top 3 Sampling Techniques:\")\n",
    "top_sampling = avg_by_sampling.head(3)\n",
    "for i, (name, row) in enumerate(top_sampling.iterrows(), 1):\n",
    "    print(f\"   {i}. {name}: F1={row['F1-Score']:.4f}\")\n",
    "\n",
    "print(f\"\\n🤖 Top 3 Models:\")\n",
    "top_models = avg_by_model.head(3)\n",
    "for i, (name, row) in enumerate(top_models.iterrows(), 1):\n",
    "    print(f\"   {i}. {name}: F1={row['F1-Score']:.4f}\")\n",
    "\n",
    "print(\"\\n💡 Recommendations:\")\n",
    "print(\"   1. Use the best combination for production\")\n",
    "print(\"   2. Consider hyperparameter tuning for further improvement\")\n",
    "print(\"   3. Monitor performance on new data\")\n",
    "print(\"   4. Consider ensemble methods combining top performers\")\n",
    "print(\"\\n✅ Analysis complete!\")"
   ]
  }
 ],
 "metadata": {
  "kernelspec": {
   "display_name": "Python 3",
   "language": "python",
   "name": "python3"
  },
  "language_info": {
   "codemirror_mode": {
    "name": "ipython",
    "version": 3
   },
   "file_extension": ".py",
   "mimetype": "text/x-python",
   "name": "python",
   "nbconvert_exporter": "python",
   "pygments_lexer": "ipython3",
   "version": "3.13.9"
  }
 },
 "nbformat": 4,
 "nbformat_minor": 4
}
